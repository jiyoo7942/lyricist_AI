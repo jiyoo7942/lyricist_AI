{
 "cells": [
  {
   "cell_type": "code",
   "execution_count": 1,
   "id": "97677b9e",
   "metadata": {},
   "outputs": [
    {
     "name": "stdout",
     "output_type": "stream",
     "text": [
      "데이터 크기: 187088\n",
      "Examples:\n",
      " [\"Now I've heard there was a secret chord\", 'That David played, and it pleased the Lord', \"But you don't really care for music, do you?\"]\n"
     ]
    }
   ],
   "source": [
    "import re\n",
    "import numpy as np\n",
    "import tensorflow as tf\n",
    "import glob\n",
    "import os\n",
    "from sklearn.model_selection import train_test_split\n",
    "\n",
    "txt_file_path = os.getenv('HOME')+'/aiffel/lyricist/data/lyrics/*'\n",
    "\n",
    "txt_list = glob.glob(txt_file_path)\n",
    "\n",
    "raw_corpus = []\n",
    "\n",
    "# 여러개의 txt 파일을 모두 읽어서 raw_corpus 에 담습니다.\n",
    "for txt_file in txt_list:\n",
    "    with open(txt_file, \"r\") as f:\n",
    "        raw = f.read().splitlines()\n",
    "        raw_corpus.extend(raw)\n",
    "\n",
    "print(\"데이터 크기:\", len(raw_corpus))\n",
    "print(\"Examples:\\n\", raw_corpus[:3])"
   ]
  },
  {
   "cell_type": "code",
   "execution_count": 20,
   "id": "a3495fb7",
   "metadata": {},
   "outputs": [
    {
     "name": "stdout",
     "output_type": "stream",
     "text": [
      "Now I've heard there was a secret chord\n",
      "That David played, and it pleased the Lord\n",
      "But you don't really care for music, do you?\n",
      "It goes like this\n",
      "The fourth, the fifth\n",
      "The minor fall, the major lift\n"
     ]
    }
   ],
   "source": [
    "for idx, sentence in enumerate(raw_corpus):\n",
    "    if len(sentence) == 0: continue   # 길이가 0인 문장은 건너뜁니다.\n",
    "    if sentence[-1] == \":\": continue  # 문장의 끝이 : 인 문장은 건너뜁니다.\n",
    "\n",
    "    if idx > 9: break   # 일단 문장 10개만 확인해 볼 겁니다.\n",
    "        \n",
    "    print(sentence)"
   ]
  },
  {
   "cell_type": "code",
   "execution_count": 21,
   "id": "aed5e65e",
   "metadata": {},
   "outputs": [
    {
     "name": "stdout",
     "output_type": "stream",
     "text": [
      "<start> this is sample sentence . <end>\n"
     ]
    }
   ],
   "source": [
    "# 입력된 문장을\n",
    "#     1. 소문자로 바꾸고, 양쪽 공백을 지웁니다\n",
    "#     2. 특수문자 양쪽에 공백을 넣고\n",
    "#     3. 여러개의 공백은 하나의 공백으로 바꿉니다\n",
    "#     4. a-zA-Z?.!,¿가 아닌 모든 문자를 하나의 공백으로 바꿉니다\n",
    "#     5. 다시 양쪽 공백을 지웁니다\n",
    "#     6. 문장 시작에는 <start>, 끝에는 <end>를 추가합니다\n",
    "# 이 순서로 처리해주면 문제가 되는 상황을 방지할 수 있겠네요!\n",
    "def preprocess_sentence(sentence):\n",
    "    sentence = sentence.lower().strip() # 1\n",
    "    sentence = re.sub(r\"([?.!,¿])\", r\" \\1 \", sentence) # 2\n",
    "    sentence = re.sub(r'[\" \"]+', \" \", sentence) # 3\n",
    "    sentence = re.sub(r\"[^a-zA-Z?.!,¿]+\", \" \", sentence) # 4\n",
    "    sentence = sentence.strip() # 5\n",
    "    sentence = '<start> ' + sentence + ' <end>' # 6\n",
    "    return sentence\n",
    "\n",
    "# 이 문장이 어떻게 필터링되는지 확인해 보세요.\n",
    "print(preprocess_sentence(\"This @_is ;;;sample        sentence.\"))"
   ]
  },
  {
   "cell_type": "code",
   "execution_count": 22,
   "id": "38ea89c7",
   "metadata": {},
   "outputs": [
    {
     "data": {
      "text/plain": [
       "['<start> now i ve heard there was a secret chord <end>',\n",
       " '<start> that david played , and it pleased the lord <end>',\n",
       " '<start> but you don t really care for music , do you ? <end>',\n",
       " '<start> it goes like this <end>',\n",
       " '<start> the fourth , the fifth <end>',\n",
       " '<start> the minor fall , the major lift <end>',\n",
       " '<start> the baffled king composing hallelujah hallelujah <end>',\n",
       " '<start> hallelujah <end>',\n",
       " '<start> hallelujah <end>',\n",
       " '<start> hallelujah your faith was strong but you needed proof <end>']"
      ]
     },
     "execution_count": 22,
     "metadata": {},
     "output_type": "execute_result"
    }
   ],
   "source": [
    "# 여기에 정제된 문장을 모을겁니다\n",
    "corpus = []\n",
    "\n",
    "for sentence in raw_corpus:\n",
    "    # 우리가 원하지 않는 문장은 건너뜁니다\n",
    "    if len(sentence) == 0: continue\n",
    "    if sentence[-1] == \":\": continue\n",
    "    \n",
    "    # 정제를 하고 담아주세요\n",
    "    preprocessed_sentence = preprocess_sentence(sentence)\n",
    "    corpus.append(preprocessed_sentence)\n",
    "        \n",
    "# 정제된 결과를 10개만 확인해보죠\n",
    "corpus[:10]"
   ]
  },
  {
   "cell_type": "code",
   "execution_count": 58,
   "id": "a40fd9b9",
   "metadata": {},
   "outputs": [
    {
     "name": "stdout",
     "output_type": "stream",
     "text": [
      "[[   2   50    5 ...    0    0    0]\n",
      " [   2   17 2639 ...    0    0    0]\n",
      " [   2   36    7 ...   43    3    0]\n",
      " ...\n",
      " [   5   22    9 ...   10 1013    3]\n",
      " [  37   15    1 ...  877  647    3]\n",
      " [   2    7   34 ...    0    0    0]] <keras_preprocessing.text.Tokenizer object at 0x7f7fa990ea30>\n"
     ]
    }
   ],
   "source": [
    "# 토큰화 할 때 텐서플로우의 Tokenizer와 pad_sequences를 사용합니다\n",
    "# 더 잘 알기 위해 아래 문서들을 참고하면 좋습니다\n",
    "# https://www.tensorflow.org/api_docs/python/tf/keras/preprocessing/text/Tokenizer\n",
    "# https://www.tensorflow.org/api_docs/python/tf/keras/preprocessing/sequence/pad_sequences\n",
    "def tokenize(corpus):\n",
    "    # 7000단어를 기억할 수 있는 tokenizer를 만들겁니다\n",
    "    # 우리는 이미 문장을 정제했으니 filters가 필요없어요\n",
    "    # 7000단어에 포함되지 못한 단어는 '<unk>'로 바꿀거에요\n",
    "    tokenizer = tf.keras.preprocessing.text.Tokenizer(\n",
    "        num_words=7000, \n",
    "        filters=' ',\n",
    "        oov_token=\"<unk>\"\n",
    "    )\n",
    "    # corpus를 이용해 tokenizer 내부의 단어장을 완성합니다\n",
    "    tokenizer.fit_on_texts(corpus)\n",
    "    # 준비한 tokenizer를 이용해 corpus를 Tensor로 변환합니다\n",
    "    tensor = tokenizer.texts_to_sequences(corpus)   \n",
    "    # 입력 데이터의 시퀀스 길이를 일정하게 맞춰줍니다\n",
    "    # 만약 시퀀스가 짧다면 문장 뒤에 패딩을 붙여 길이를 맞춰줍니다.\n",
    "    # 문장 앞에 패딩을 붙여 길이를 맞추고 싶다면 padding='pre'를 사용합니다\n",
    "    tensor = tf.keras.preprocessing.sequence.pad_sequences(tensor, padding='post',maxlen=15)  \n",
    "    \n",
    "    print(tensor,tokenizer)\n",
    "    return tensor, tokenizer\n",
    "\n",
    "tensor, tokenizer = tokenize(corpus)"
   ]
  },
  {
   "cell_type": "code",
   "execution_count": 62,
   "id": "ddb2c878",
   "metadata": {},
   "outputs": [
    {
     "name": "stdout",
     "output_type": "stream",
     "text": [
      "1 : <unk>\n",
      "2 : <start>\n",
      "3 : <end>\n",
      "4 : ,\n",
      "5 : i\n",
      "6 : the\n",
      "7 : you\n",
      "8 : and\n",
      "9 : a\n",
      "10 : to\n"
     ]
    }
   ],
   "source": [
    "for idx in tokenizer.index_word:\n",
    "    print(idx, \":\", tokenizer.index_word[idx])\n",
    "\n",
    "    if idx >= 10: break"
   ]
  },
  {
   "cell_type": "code",
   "execution_count": 63,
   "id": "297c6d40",
   "metadata": {
    "scrolled": true
   },
   "outputs": [
    {
     "name": "stdout",
     "output_type": "stream",
     "text": [
      "[   2   50    5   91  297   65   57    9  969 6042    3    0    0    0]\n",
      "[  50    5   91  297   65   57    9  969 6042    3    0    0    0    0]\n"
     ]
    }
   ],
   "source": [
    "# tensor에서 마지막 토큰을 잘라내서 소스 문장을 생성합니다\n",
    "# 마지막 토큰은 <end>가 아니라 <pad>일 가능성이 높습니다.\n",
    "src_input = tensor[:, :-1]  \n",
    "# tensor에서 <start>를 잘라내서 타겟 문장을 생성합니다.\n",
    "tgt_input = tensor[:, 1:]    \n",
    "\n",
    "print(src_input[0])\n",
    "print(tgt_input[0])\n",
    "# import numpy as np d = np.arange(20).reshape(4, 5) print(d[:, :-1])"
   ]
  },
  {
   "cell_type": "code",
   "execution_count": 64,
   "id": "8ac1487e",
   "metadata": {},
   "outputs": [],
   "source": [
    "enc_train, enc_val, dec_train, dec_val = train_test_split(src_input, tgt_input, test_size=0.2, random_state=2)"
   ]
  },
  {
   "cell_type": "code",
   "execution_count": 65,
   "id": "3b2d89d4",
   "metadata": {},
   "outputs": [
    {
     "data": {
      "text/plain": [
       "<BatchDataset shapes: ((256, 14), (256, 14)), types: (tf.int32, tf.int32)>"
      ]
     },
     "execution_count": 65,
     "metadata": {},
     "output_type": "execute_result"
    }
   ],
   "source": [
    "BUFFER_SIZE = len(src_input)\n",
    "BATCH_SIZE = 256\n",
    "steps_per_epoch = len(src_input) // BATCH_SIZE\n",
    "\n",
    " # tokenizer가 구축한 단어사전 내 7000개와, 여기 포함되지 않은 0:<pad>를 포함하여 7001개\n",
    "VOCAB_SIZE = tokenizer.num_words + 1   \n",
    "\n",
    "# 준비한 데이터 소스로부터 데이터셋을 만듭니다\n",
    "# 데이터셋에 대해서는 아래 문서를 참고하세요\n",
    "# 자세히 알아둘수록 도움이 많이 되는 중요한 문서입니다\n",
    "# https://www.tensorflow.org/api_docs/python/tf/data/Dataset\n",
    "dataset = tf.data.Dataset.from_tensor_slices((src_input, tgt_input))\n",
    "dataset = dataset.shuffle(BUFFER_SIZE)\n",
    "dataset = dataset.batch(BATCH_SIZE, drop_remainder=True)\n",
    "dataset"
   ]
  },
  {
   "cell_type": "code",
   "execution_count": 10,
   "id": "b4434a9a",
   "metadata": {},
   "outputs": [
    {
     "data": {
      "text/plain": [
       "<BatchDataset shapes: ((256, 346), (256, 346)), types: (tf.int32, tf.int32)>"
      ]
     },
     "execution_count": 10,
     "metadata": {},
     "output_type": "execute_result"
    }
   ],
   "source": [
    "val_dataset = tf.data.Dataset.from_tensor_slices((enc_val, dec_val))\n",
    "val_dataset = val_dataset.shuffle(BUFFER_SIZE)\n",
    "val_dataset = val_dataset.batch(BATCH_SIZE, drop_remainder=True)\n",
    "val_dataset"
   ]
  },
  {
   "cell_type": "code",
   "execution_count": 11,
   "id": "72df0825",
   "metadata": {},
   "outputs": [
    {
     "name": "stdout",
     "output_type": "stream",
     "text": [
      "Source Train: (140599, 346)\n",
      "Target Train: (140599, 346)\n"
     ]
    }
   ],
   "source": [
    "print(\"Source Train:\", enc_train.shape)\n",
    "print(\"Target Train:\", dec_train.shape)"
   ]
  },
  {
   "cell_type": "code",
   "execution_count": 12,
   "id": "758138f0",
   "metadata": {},
   "outputs": [],
   "source": [
    "class TextGenerator(tf.keras.Model):\n",
    "    def __init__(self, vocab_size, embedding_size, hidden_size):\n",
    "        super().__init__()\n",
    "        \n",
    "        self.embedding = tf.keras.layers.Embedding(vocab_size, embedding_size)\n",
    "        self.rnn_1 = tf.keras.layers.LSTM(hidden_size, return_sequences=True)\n",
    "        self.rnn_2 = tf.keras.layers.LSTM(hidden_size, return_sequences=True)\n",
    "        self.linear = tf.keras.layers.Dense(vocab_size)\n",
    "        \n",
    "    def call(self, x):\n",
    "        out = self.embedding(x)\n",
    "        out = self.rnn_1(out)\n",
    "        out = self.rnn_2(out)\n",
    "        out = self.linear(out)\n",
    "        \n",
    "        return out\n",
    "    \n",
    "embedding_size = 256\n",
    "hidden_size = 1024\n",
    "model = TextGenerator(tokenizer.num_words + 1, embedding_size , hidden_size)"
   ]
  },
  {
   "cell_type": "code",
   "execution_count": 13,
   "id": "aad93cb4",
   "metadata": {},
   "outputs": [
    {
     "data": {
      "text/plain": [
       "<tf.Tensor: shape=(256, 346, 7001), dtype=float32, numpy=\n",
       "array([[[-3.9749098e-04, -9.5338191e-06,  6.5934696e-06, ...,\n",
       "         -2.8598349e-04, -3.2201722e-05,  2.1754402e-04],\n",
       "        [-7.2060432e-04,  2.2327871e-04, -1.0001499e-04, ...,\n",
       "         -4.5627126e-04, -8.8075947e-05,  5.5378838e-04],\n",
       "        [-8.0297026e-04,  2.1636812e-04,  4.7986166e-05, ...,\n",
       "         -9.3717262e-04, -9.0298941e-05,  8.8418438e-04],\n",
       "        ...,\n",
       "        [ 2.8846122e-04,  5.1030656e-03, -1.1850350e-03, ...,\n",
       "         -2.7071382e-03, -9.8125665e-06, -1.5163979e-04],\n",
       "        [ 2.8846151e-04,  5.1030652e-03, -1.1850350e-03, ...,\n",
       "         -2.7071389e-03, -9.8124538e-06, -1.5164031e-04],\n",
       "        [ 2.8846180e-04,  5.1030656e-03, -1.1850349e-03, ...,\n",
       "         -2.7071389e-03, -9.8124428e-06, -1.5164075e-04]],\n",
       "\n",
       "       [[-3.9749098e-04, -9.5338191e-06,  6.5934696e-06, ...,\n",
       "         -2.8598349e-04, -3.2201722e-05,  2.1754402e-04],\n",
       "        [-5.2262039e-04, -1.3484678e-04,  5.1458442e-04, ...,\n",
       "         -4.0746052e-04, -1.9550747e-04,  7.6090125e-04],\n",
       "        [-4.3216912e-04, -4.1768744e-04,  9.1091881e-04, ...,\n",
       "         -7.9600373e-04, -2.7887660e-04,  1.2106330e-03],\n",
       "        ...,\n",
       "        [ 2.8846093e-04,  5.1030684e-03, -1.1850345e-03, ...,\n",
       "         -2.7071415e-03, -9.8096107e-06, -1.5163999e-04],\n",
       "        [ 2.8846035e-04,  5.1030675e-03, -1.1850352e-03, ...,\n",
       "         -2.7071419e-03, -9.8096252e-06, -1.5163927e-04],\n",
       "        [ 2.8846081e-04,  5.1030684e-03, -1.1850339e-03, ...,\n",
       "         -2.7071417e-03, -9.8084565e-06, -1.5163964e-04]],\n",
       "\n",
       "       [[-3.9749098e-04, -9.5338191e-06,  6.5934696e-06, ...,\n",
       "         -2.8598349e-04, -3.2201722e-05,  2.1754402e-04],\n",
       "        [-6.3030887e-04,  1.1724140e-04,  4.4326396e-05, ...,\n",
       "         -3.7837197e-04, -9.0667214e-05,  5.1853788e-04],\n",
       "        [-6.0620770e-04,  9.5092983e-05,  7.2928546e-05, ...,\n",
       "         -4.2117058e-04,  5.1494098e-06,  6.0914370e-04],\n",
       "        ...,\n",
       "        [ 2.8846116e-04,  5.1030712e-03, -1.1850314e-03, ...,\n",
       "         -2.7071366e-03, -9.8109658e-06, -1.5164031e-04],\n",
       "        [ 2.8846131e-04,  5.1030712e-03, -1.1850309e-03, ...,\n",
       "         -2.7071361e-03, -9.8103756e-06, -1.5164058e-04],\n",
       "        [ 2.8846046e-04,  5.1030703e-03, -1.1850308e-03, ...,\n",
       "         -2.7071352e-03, -9.8088567e-06, -1.5164030e-04]],\n",
       "\n",
       "       ...,\n",
       "\n",
       "       [[-3.9749098e-04, -9.5338191e-06,  6.5934696e-06, ...,\n",
       "         -2.8598349e-04, -3.2201722e-05,  2.1754402e-04],\n",
       "        [-7.1899575e-04, -2.8468811e-04, -6.0517679e-04, ...,\n",
       "         -6.6145015e-04,  6.0044013e-06,  2.0993671e-04],\n",
       "        [-8.8832580e-04, -6.9323147e-04, -1.5633274e-03, ...,\n",
       "         -1.0685521e-03,  1.0901121e-04,  5.0422215e-05],\n",
       "        ...,\n",
       "        [ 2.8845941e-04,  5.1030684e-03, -1.1850342e-03, ...,\n",
       "         -2.7071370e-03, -9.8093333e-06, -1.5164205e-04],\n",
       "        [ 2.8845912e-04,  5.1030680e-03, -1.1850343e-03, ...,\n",
       "         -2.7071363e-03, -9.8085275e-06, -1.5164207e-04],\n",
       "        [ 2.8845921e-04,  5.1030675e-03, -1.1850334e-03, ...,\n",
       "         -2.7071373e-03, -9.8087512e-06, -1.5164161e-04]],\n",
       "\n",
       "       [[-3.9749098e-04, -9.5338191e-06,  6.5934696e-06, ...,\n",
       "         -2.8598349e-04, -3.2201722e-05,  2.1754402e-04],\n",
       "        [-3.5784970e-04,  1.5107397e-04, -3.3538518e-04, ...,\n",
       "         -3.3302826e-04,  2.7694543e-05,  4.2340002e-04],\n",
       "        [-9.7171032e-05,  2.3697983e-04, -1.2232717e-04, ...,\n",
       "         -1.8767576e-04, -9.1807990e-05,  8.9912623e-04],\n",
       "        ...,\n",
       "        [ 2.8846227e-04,  5.1030694e-03, -1.1850308e-03, ...,\n",
       "         -2.7071412e-03, -9.8103128e-06, -1.5163982e-04],\n",
       "        [ 2.8846215e-04,  5.1030689e-03, -1.1850313e-03, ...,\n",
       "         -2.7071408e-03, -9.8104092e-06, -1.5164011e-04],\n",
       "        [ 2.8846224e-04,  5.1030689e-03, -1.1850310e-03, ...,\n",
       "         -2.7071410e-03, -9.8096607e-06, -1.5163934e-04]],\n",
       "\n",
       "       [[-3.9749098e-04, -9.5338191e-06,  6.5934696e-06, ...,\n",
       "         -2.8598349e-04, -3.2201722e-05,  2.1754402e-04],\n",
       "        [-5.2262039e-04, -1.3484678e-04,  5.1458442e-04, ...,\n",
       "         -4.0746052e-04, -1.9550747e-04,  7.6090125e-04],\n",
       "        [-8.6891581e-04, -2.7929322e-04,  4.0057974e-04, ...,\n",
       "         -3.6130488e-04, -3.0859746e-04,  9.6495973e-04],\n",
       "        ...,\n",
       "        [ 2.8846072e-04,  5.1030670e-03, -1.1850351e-03, ...,\n",
       "         -2.7071415e-03, -9.8100736e-06, -1.5164060e-04],\n",
       "        [ 2.8845988e-04,  5.1030670e-03, -1.1850349e-03, ...,\n",
       "         -2.7071401e-03, -9.8101946e-06, -1.5164031e-04],\n",
       "        [ 2.8846000e-04,  5.1030661e-03, -1.1850352e-03, ...,\n",
       "         -2.7071412e-03, -9.8102400e-06, -1.5163982e-04]]], dtype=float32)>"
      ]
     },
     "execution_count": 13,
     "metadata": {},
     "output_type": "execute_result"
    }
   ],
   "source": [
    "# 데이터셋에서 데이터 한 배치만 불러오는 방법입니다.\n",
    "# 지금은 동작 원리에 너무 빠져들지 마세요~\n",
    "for src_sample, tgt_sample in dataset.take(1): break\n",
    "\n",
    "# 한 배치만 불러온 데이터를 모델에 넣어봅니다\n",
    "model(src_sample)"
   ]
  },
  {
   "cell_type": "code",
   "execution_count": 14,
   "id": "38d14db8",
   "metadata": {},
   "outputs": [
    {
     "name": "stdout",
     "output_type": "stream",
     "text": [
      "Model: \"text_generator\"\n",
      "_________________________________________________________________\n",
      "Layer (type)                 Output Shape              Param #   \n",
      "=================================================================\n",
      "embedding (Embedding)        multiple                  1792256   \n",
      "_________________________________________________________________\n",
      "lstm (LSTM)                  multiple                  5246976   \n",
      "_________________________________________________________________\n",
      "lstm_1 (LSTM)                multiple                  8392704   \n",
      "_________________________________________________________________\n",
      "dense (Dense)                multiple                  7176025   \n",
      "=================================================================\n",
      "Total params: 22,607,961\n",
      "Trainable params: 22,607,961\n",
      "Non-trainable params: 0\n",
      "_________________________________________________________________\n"
     ]
    }
   ],
   "source": [
    "model.summary()"
   ]
  },
  {
   "cell_type": "code",
   "execution_count": 16,
   "id": "c92b4630",
   "metadata": {},
   "outputs": [],
   "source": [
    "optimizer = tf.keras.optimizers.Adam()\n",
    "loss = tf.keras.losses.SparseCategoricalCrossentropy(\n",
    "       from_logits=True, reduction='none'\n",
    ")"
   ]
  },
  {
   "cell_type": "code",
   "execution_count": 17,
   "id": "04ff9f6b",
   "metadata": {},
   "outputs": [],
   "source": [
    "def generate_text(model, tokenizer, init_sentence=\"<start>\", max_len=20):\n",
    "    # 테스트를 위해서 입력받은 init_sentence도 텐서로 변환합니다\n",
    "    test_input = tokenizer.texts_to_sequences([init_sentence])\n",
    "    test_tensor = tf.convert_to_tensor(test_input, dtype=tf.int64)\n",
    "    end_token = tokenizer.word_index[\"<end>\"]\n",
    "\n",
    "    # 단어 하나씩 예측해 문장을 만듭니다\n",
    "    #    1. 입력받은 문장의 텐서를 입력합니다\n",
    "    #    2. 예측된 값 중 가장 높은 확률인 word index를 뽑아냅니다\n",
    "    #    3. 2에서 예측된 word index를 문장 뒤에 붙입니다\n",
    "    #    4. 모델이 <end>를 예측했거나, max_len에 도달했다면 문장 생성을 마칩니다\n",
    "    while True:\n",
    "        # 1\n",
    "        predict = model(test_tensor) \n",
    "        # 2\n",
    "        predict_word = tf.argmax(tf.nn.softmax(predict, axis=-1), axis=-1)[:, -1] \n",
    "        # 3 \n",
    "        test_tensor = tf.concat([test_tensor, tf.expand_dims(predict_word, axis=0)], axis=-1)\n",
    "        # 4\n",
    "        if predict_word.numpy()[0] == end_token: break\n",
    "        if test_tensor.shape[1] >= max_len: break\n",
    "\n",
    "    generated = \"\"\n",
    "    # tokenizer를 이용해 word index를 단어로 하나씩 변환합니다 \n",
    "    for word_index in test_tensor[0].numpy():\n",
    "        generated += tokenizer.index_word[word_index] + \" \"\n",
    "\n",
    "    return generated"
   ]
  },
  {
   "cell_type": "code",
   "execution_count": 54,
   "id": "55a5b934",
   "metadata": {},
   "outputs": [
    {
     "data": {
      "text/plain": [
       "'<start> you level level attitude attitude tune tune tune design greatest greatest steppin steppin steppin selfish selfish selfish cheating cheating '"
      ]
     },
     "execution_count": 54,
     "metadata": {},
     "output_type": "execute_result"
    }
   ],
   "source": [
    "generate_text(model, tokenizer, init_sentence=\"<start> you\")"
   ]
  },
  {
   "cell_type": "code",
   "execution_count": null,
   "id": "b6096129",
   "metadata": {},
   "outputs": [],
   "source": [
    "#회고... maxlen 을 사용해야 된다는 부분에서 충격 15개만 나오개 하기 위해서 엄청 고생했다.\n",
    "#maxlen이란 것을 새로 공부했고, tensor 함수는 애초에 2차원 배열이라는 것도 알았다.\n",
    "#벡터화하는 과정에서 글자길이가 비교하는 대상과 서로 다르면 0으로 len길이를 같게 합니다. 이런 부분도 찾아야 알 수 있는 부분입니다... 참고하세요"
   ]
  }
 ],
 "metadata": {
  "kernelspec": {
   "display_name": "Python 3 (ipykernel)",
   "language": "python",
   "name": "python3"
  },
  "language_info": {
   "codemirror_mode": {
    "name": "ipython",
    "version": 3
   },
   "file_extension": ".py",
   "mimetype": "text/x-python",
   "name": "python",
   "nbconvert_exporter": "python",
   "pygments_lexer": "ipython3",
   "version": "3.9.7"
  }
 },
 "nbformat": 4,
 "nbformat_minor": 5
}
